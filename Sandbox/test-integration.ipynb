{
 "cells": [
  {
   "cell_type": "markdown",
   "id": "cbb05e8f-444f-42e9-b193-1ef32c7cab2b",
   "metadata": {},
   "source": [
    "# Topic\n",
    "\n",
    "In this notebook, I'm trying to find a robust metric to compute the complexity of the data\n",
    "represented as a set of discrete values"
   ]
  },
  {
   "cell_type": "code",
   "execution_count": 1,
   "id": "02463e8f-c5e0-4611-8b9c-c575c9c43935",
   "metadata": {},
   "outputs": [
    {
     "name": "stderr",
     "output_type": "stream",
     "text": [
      "<frozen importlib._bootstrap>:241: RuntimeWarning: to-Python converter for std::vector<std::vector<int, std::allocator<int> >, std::allocator<std::vector<int, std::allocator<int> > > > already registered; second conversion method ignored.\n",
      "<frozen importlib._bootstrap>:241: RuntimeWarning: to-Python converter for boost::python::detail::container_element<std::vector<std::vector<int, std::allocator<int> >, std::allocator<std::vector<int, std::allocator<int> > > >, unsigned long, boost::python::detail::final_vector_derived_policies<std::vector<std::vector<int, std::allocator<int> >, std::allocator<std::vector<int, std::allocator<int> > > >, false> > already registered; second conversion method ignored.\n",
      "<frozen importlib._bootstrap>:241: RuntimeWarning: to-Python converter for std::vector<std::vector<float, std::allocator<float> >, std::allocator<std::vector<float, std::allocator<float> > > > already registered; second conversion method ignored.\n",
      "<frozen importlib._bootstrap>:241: RuntimeWarning: to-Python converter for boost::python::detail::container_element<std::vector<std::vector<float, std::allocator<float> >, std::allocator<std::vector<float, std::allocator<float> > > >, unsigned long, boost::python::detail::final_vector_derived_policies<std::vector<std::vector<float, std::allocator<float> >, std::allocator<std::vector<float, std::allocator<float> > > >, false> > already registered; second conversion method ignored.\n",
      "<frozen importlib._bootstrap>:241: RuntimeWarning: to-Python converter for std::vector<std::vector<double, std::allocator<double> >, std::allocator<std::vector<double, std::allocator<double> > > > already registered; second conversion method ignored.\n",
      "<frozen importlib._bootstrap>:241: RuntimeWarning: to-Python converter for boost::python::detail::container_element<std::vector<std::vector<double, std::allocator<double> >, std::allocator<std::vector<double, std::allocator<double> > > >, unsigned long, boost::python::detail::final_vector_derived_policies<std::vector<std::vector<double, std::allocator<double> >, std::allocator<std::vector<double, std::allocator<double> > > >, false> > already registered; second conversion method ignored.\n",
      "<frozen importlib._bootstrap>:241: RuntimeWarning: to-Python converter for std::vector<std::vector<std::complex<double>, std::allocator<std::complex<double> > >, std::allocator<std::vector<std::complex<double>, std::allocator<std::complex<double> > > > > already registered; second conversion method ignored.\n",
      "<frozen importlib._bootstrap>:241: RuntimeWarning: to-Python converter for boost::python::detail::container_element<std::vector<std::vector<std::complex<double>, std::allocator<std::complex<double> > >, std::allocator<std::vector<std::complex<double>, std::allocator<std::complex<double> > > > >, unsigned long, boost::python::detail::final_vector_derived_policies<std::vector<std::vector<std::complex<double>, std::allocator<std::complex<double> > >, std::allocator<std::vector<std::complex<double>, std::allocator<std::complex<double> > > > >, false> > already registered; second conversion method ignored.\n"
     ]
    }
   ],
   "source": [
    "from liblibra_core import *\n",
    "import matplotlib.pyplot as plt\n",
    "import random\n",
    "import numpy as np\n",
    "from scipy.stats import gaussian_kde\n",
    "from sklearn.neighbors import NearestNeighbors\n",
    "from scipy.special import digamma\n",
    "from math import log, pi, gamma\n",
    "\n",
    "import infomeasure as im"
   ]
  },
  {
   "cell_type": "code",
   "execution_count": 2,
   "id": "9387b084-65ff-49d6-a0b7-7667773f2d07",
   "metadata": {},
   "outputs": [
    {
     "name": "stdout",
     "output_type": "stream",
     "text": [
      "Help on class gaussian_kde in module scipy.stats._kde:\n",
      "\n",
      "class gaussian_kde(builtins.object)\n",
      " |  gaussian_kde(dataset, bw_method=None, weights=None)\n",
      " |  \n",
      " |  Representation of a kernel-density estimate using Gaussian kernels.\n",
      " |  \n",
      " |  Kernel density estimation is a way to estimate the probability density\n",
      " |  function (PDF) of a random variable in a non-parametric way.\n",
      " |  `gaussian_kde` works for both uni-variate and multi-variate data.   It\n",
      " |  includes automatic bandwidth determination.  The estimation works best for\n",
      " |  a unimodal distribution; bimodal or multi-modal distributions tend to be\n",
      " |  oversmoothed.\n",
      " |  \n",
      " |  Parameters\n",
      " |  ----------\n",
      " |  dataset : array_like\n",
      " |      Datapoints to estimate from. In case of univariate data this is a 1-D\n",
      " |      array, otherwise a 2-D array with shape (# of dims, # of data).\n",
      " |  bw_method : str, scalar or callable, optional\n",
      " |      The method used to calculate the bandwidth factor.  This can be\n",
      " |      'scott', 'silverman', a scalar constant or a callable.  If a scalar,\n",
      " |      this will be used directly as `factor`.  If a callable, it should\n",
      " |      take a `gaussian_kde` instance as only parameter and return a scalar.\n",
      " |      If None (default), 'scott' is used.  See Notes for more details.\n",
      " |  weights : array_like, optional\n",
      " |      weights of datapoints. This must be the same shape as dataset.\n",
      " |      If None (default), the samples are assumed to be equally weighted\n",
      " |  \n",
      " |  Attributes\n",
      " |  ----------\n",
      " |  dataset : ndarray\n",
      " |      The dataset with which `gaussian_kde` was initialized.\n",
      " |  d : int\n",
      " |      Number of dimensions.\n",
      " |  n : int\n",
      " |      Number of datapoints.\n",
      " |  neff : int\n",
      " |      Effective number of datapoints.\n",
      " |  \n",
      " |      .. versionadded:: 1.2.0\n",
      " |  factor : float\n",
      " |      The bandwidth factor obtained from `covariance_factor`.\n",
      " |  covariance : ndarray\n",
      " |      The kernel covariance matrix; this is the data covariance matrix\n",
      " |      multiplied by the square of the bandwidth factor, e.g.\n",
      " |      ``np.cov(dataset) * factor**2``.\n",
      " |  inv_cov : ndarray\n",
      " |      The inverse of `covariance`.\n",
      " |  \n",
      " |  Methods\n",
      " |  -------\n",
      " |  evaluate\n",
      " |  __call__\n",
      " |  integrate_gaussian\n",
      " |  integrate_box_1d\n",
      " |  integrate_box\n",
      " |  integrate_kde\n",
      " |  pdf\n",
      " |  logpdf\n",
      " |  resample\n",
      " |  set_bandwidth\n",
      " |  covariance_factor\n",
      " |  \n",
      " |  Notes\n",
      " |  -----\n",
      " |  Bandwidth selection strongly influences the estimate obtained from the KDE\n",
      " |  (much more so than the actual shape of the kernel).  Bandwidth selection\n",
      " |  can be done by a \"rule of thumb\", by cross-validation, by \"plug-in\n",
      " |  methods\" or by other means; see [3]_, [4]_ for reviews.  `gaussian_kde`\n",
      " |  uses a rule of thumb, the default is Scott's Rule.\n",
      " |  \n",
      " |  Scott's Rule [1]_, implemented as `scotts_factor`, is::\n",
      " |  \n",
      " |      n**(-1./(d+4)),\n",
      " |  \n",
      " |  with ``n`` the number of data points and ``d`` the number of dimensions.\n",
      " |  In the case of unequally weighted points, `scotts_factor` becomes::\n",
      " |  \n",
      " |      neff**(-1./(d+4)),\n",
      " |  \n",
      " |  with ``neff`` the effective number of datapoints.\n",
      " |  Silverman's suggestion for *multivariate* data [2]_, implemented as\n",
      " |  `silverman_factor`, is::\n",
      " |  \n",
      " |      (n * (d + 2) / 4.)**(-1. / (d + 4)).\n",
      " |  \n",
      " |  or in the case of unequally weighted points::\n",
      " |  \n",
      " |      (neff * (d + 2) / 4.)**(-1. / (d + 4)).\n",
      " |  \n",
      " |  Note that this is not the same as \"Silverman's rule of thumb\" [6]_, which\n",
      " |  may be more robust in the univariate case; see documentation of the\n",
      " |  ``set_bandwidth`` method for implementing a custom bandwidth rule.\n",
      " |  \n",
      " |  Good general descriptions of kernel density estimation can be found in [1]_\n",
      " |  and [2]_, the mathematics for this multi-dimensional implementation can be\n",
      " |  found in [1]_.\n",
      " |  \n",
      " |  With a set of weighted samples, the effective number of datapoints ``neff``\n",
      " |  is defined by::\n",
      " |  \n",
      " |      neff = sum(weights)^2 / sum(weights^2)\n",
      " |  \n",
      " |  as detailed in [5]_.\n",
      " |  \n",
      " |  `gaussian_kde` does not currently support data that lies in a\n",
      " |  lower-dimensional subspace of the space in which it is expressed. For such\n",
      " |  data, consider performing principal component analysis / dimensionality\n",
      " |  reduction and using `gaussian_kde` with the transformed data.\n",
      " |  \n",
      " |  References\n",
      " |  ----------\n",
      " |  .. [1] D.W. Scott, \"Multivariate Density Estimation: Theory, Practice, and\n",
      " |         Visualization\", John Wiley & Sons, New York, Chicester, 1992.\n",
      " |  .. [2] B.W. Silverman, \"Density Estimation for Statistics and Data\n",
      " |         Analysis\", Vol. 26, Monographs on Statistics and Applied Probability,\n",
      " |         Chapman and Hall, London, 1986.\n",
      " |  .. [3] B.A. Turlach, \"Bandwidth Selection in Kernel Density Estimation: A\n",
      " |         Review\", CORE and Institut de Statistique, Vol. 19, pp. 1-33, 1993.\n",
      " |  .. [4] D.M. Bashtannyk and R.J. Hyndman, \"Bandwidth selection for kernel\n",
      " |         conditional density estimation\", Computational Statistics & Data\n",
      " |         Analysis, Vol. 36, pp. 279-298, 2001.\n",
      " |  .. [5] Gray P. G., 1969, Journal of the Royal Statistical Society.\n",
      " |         Series A (General), 132, 272\n",
      " |  .. [6] Kernel density estimation. *Wikipedia.*\n",
      " |         https://en.wikipedia.org/wiki/Kernel_density_estimation\n",
      " |  \n",
      " |  Examples\n",
      " |  --------\n",
      " |  Generate some random two-dimensional data:\n",
      " |  \n",
      " |  >>> import numpy as np\n",
      " |  >>> from scipy import stats\n",
      " |  >>> def measure(n):\n",
      " |  ...     \"Measurement model, return two coupled measurements.\"\n",
      " |  ...     m1 = np.random.normal(size=n)\n",
      " |  ...     m2 = np.random.normal(scale=0.5, size=n)\n",
      " |  ...     return m1+m2, m1-m2\n",
      " |  \n",
      " |  >>> m1, m2 = measure(2000)\n",
      " |  >>> xmin = m1.min()\n",
      " |  >>> xmax = m1.max()\n",
      " |  >>> ymin = m2.min()\n",
      " |  >>> ymax = m2.max()\n",
      " |  \n",
      " |  Perform a kernel density estimate on the data:\n",
      " |  \n",
      " |  >>> X, Y = np.mgrid[xmin:xmax:100j, ymin:ymax:100j]\n",
      " |  >>> positions = np.vstack([X.ravel(), Y.ravel()])\n",
      " |  >>> values = np.vstack([m1, m2])\n",
      " |  >>> kernel = stats.gaussian_kde(values)\n",
      " |  >>> Z = np.reshape(kernel(positions).T, X.shape)\n",
      " |  \n",
      " |  Plot the results:\n",
      " |  \n",
      " |  >>> import matplotlib.pyplot as plt\n",
      " |  >>> fig, ax = plt.subplots()\n",
      " |  >>> ax.imshow(np.rot90(Z), cmap=plt.cm.gist_earth_r,\n",
      " |  ...           extent=[xmin, xmax, ymin, ymax])\n",
      " |  >>> ax.plot(m1, m2, 'k.', markersize=2)\n",
      " |  >>> ax.set_xlim([xmin, xmax])\n",
      " |  >>> ax.set_ylim([ymin, ymax])\n",
      " |  >>> plt.show()\n",
      " |  \n",
      " |  Compare against manual KDE at a point:\n",
      " |  \n",
      " |  >>> point = [1, 2]\n",
      " |  >>> mean = values.T\n",
      " |  >>> cov = kernel.factor**2 * np.cov(values)\n",
      " |  >>> X = stats.multivariate_normal(cov=cov)\n",
      " |  >>> res = kernel.pdf(point)\n",
      " |  >>> ref = X.pdf(point - mean).sum() / len(mean)\n",
      " |  >>> np.allclose(res, ref)\n",
      " |  True\n",
      " |  \n",
      " |  Methods defined here:\n",
      " |  \n",
      " |  __call__ = evaluate(self, points)\n",
      " |  \n",
      " |  __init__(self, dataset, bw_method=None, weights=None)\n",
      " |      Initialize self.  See help(type(self)) for accurate signature.\n",
      " |  \n",
      " |  covariance_factor = scotts_factor(self)\n",
      " |  \n",
      " |  evaluate(self, points)\n",
      " |      Evaluate the estimated pdf on a set of points.\n",
      " |      \n",
      " |      Parameters\n",
      " |      ----------\n",
      " |      points : (# of dimensions, # of points)-array\n",
      " |          Alternatively, a (# of dimensions,) vector can be passed in and\n",
      " |          treated as a single point.\n",
      " |      \n",
      " |      Returns\n",
      " |      -------\n",
      " |      values : (# of points,)-array\n",
      " |          The values at each point.\n",
      " |      \n",
      " |      Raises\n",
      " |      ------\n",
      " |      ValueError : if the dimensionality of the input points is different than\n",
      " |                   the dimensionality of the KDE.\n",
      " |  \n",
      " |  integrate_box(self, low_bounds, high_bounds, maxpts=None, *, rng=None)\n",
      " |      Computes the integral of a pdf over a rectangular interval.\n",
      " |      \n",
      " |      Parameters\n",
      " |      ----------\n",
      " |      low_bounds : array_like\n",
      " |          A 1-D array containing the lower bounds of integration.\n",
      " |      high_bounds : array_like\n",
      " |          A 1-D array containing the upper bounds of integration.\n",
      " |      maxpts : int, optional\n",
      " |          The maximum number of points to use for integration.\n",
      " |      rng : `numpy.random.Generator`, optional\n",
      " |          Pseudorandom number generator state. When `rng` is None, a new\n",
      " |          generator is created using entropy from the operating system. Types\n",
      " |          other than `numpy.random.Generator` are passed to\n",
      " |          `numpy.random.default_rng` to instantiate a ``Generator``.\n",
      " |      \n",
      " |      Returns\n",
      " |      -------\n",
      " |      value : scalar\n",
      " |          The result of the integral.\n",
      " |  \n",
      " |  integrate_box_1d(self, low, high)\n",
      " |      Computes the integral of a 1D pdf between two bounds.\n",
      " |      \n",
      " |      Parameters\n",
      " |      ----------\n",
      " |      low : scalar\n",
      " |          Lower bound of integration.\n",
      " |      high : scalar\n",
      " |          Upper bound of integration.\n",
      " |      \n",
      " |      Returns\n",
      " |      -------\n",
      " |      value : scalar\n",
      " |          The result of the integral.\n",
      " |      \n",
      " |      Raises\n",
      " |      ------\n",
      " |      ValueError\n",
      " |          If the KDE is over more than one dimension.\n",
      " |  \n",
      " |  integrate_gaussian(self, mean, cov)\n",
      " |      Multiply estimated density by a multivariate Gaussian and integrate\n",
      " |      over the whole space.\n",
      " |      \n",
      " |      Parameters\n",
      " |      ----------\n",
      " |      mean : aray_like\n",
      " |          A 1-D array, specifying the mean of the Gaussian.\n",
      " |      cov : array_like\n",
      " |          A 2-D array, specifying the covariance matrix of the Gaussian.\n",
      " |      \n",
      " |      Returns\n",
      " |      -------\n",
      " |      result : scalar\n",
      " |          The value of the integral.\n",
      " |      \n",
      " |      Raises\n",
      " |      ------\n",
      " |      ValueError\n",
      " |          If the mean or covariance of the input Gaussian differs from\n",
      " |          the KDE's dimensionality.\n",
      " |  \n",
      " |  integrate_kde(self, other)\n",
      " |      Computes the integral of the product of this  kernel density estimate\n",
      " |      with another.\n",
      " |      \n",
      " |      Parameters\n",
      " |      ----------\n",
      " |      other : gaussian_kde instance\n",
      " |          The other kde.\n",
      " |      \n",
      " |      Returns\n",
      " |      -------\n",
      " |      value : scalar\n",
      " |          The result of the integral.\n",
      " |      \n",
      " |      Raises\n",
      " |      ------\n",
      " |      ValueError\n",
      " |          If the KDEs have different dimensionality.\n",
      " |  \n",
      " |  logpdf(self, x)\n",
      " |      Evaluate the log of the estimated pdf on a provided set of points.\n",
      " |  \n",
      " |  marginal(self, dimensions)\n",
      " |      Return a marginal KDE distribution\n",
      " |      \n",
      " |      Parameters\n",
      " |      ----------\n",
      " |      dimensions : int or 1-d array_like\n",
      " |          The dimensions of the multivariate distribution corresponding\n",
      " |          with the marginal variables, that is, the indices of the dimensions\n",
      " |          that are being retained. The other dimensions are marginalized out.\n",
      " |      \n",
      " |      Returns\n",
      " |      -------\n",
      " |      marginal_kde : gaussian_kde\n",
      " |          An object representing the marginal distribution.\n",
      " |      \n",
      " |      Notes\n",
      " |      -----\n",
      " |      .. versionadded:: 1.10.0\n",
      " |  \n",
      " |  pdf(self, x)\n",
      " |      Evaluate the estimated pdf on a provided set of points.\n",
      " |      \n",
      " |      Notes\n",
      " |      -----\n",
      " |      This is an alias for `gaussian_kde.evaluate`.  See the ``evaluate``\n",
      " |      docstring for more details.\n",
      " |  \n",
      " |  resample(self, size=None, seed=None)\n",
      " |      Randomly sample a dataset from the estimated pdf.\n",
      " |      \n",
      " |      Parameters\n",
      " |      ----------\n",
      " |      size : int, optional\n",
      " |          The number of samples to draw.  If not provided, then the size is\n",
      " |          the same as the effective number of samples in the underlying\n",
      " |          dataset.\n",
      " |      seed : {None, int, `numpy.random.Generator`, `numpy.random.RandomState`}, optional\n",
      " |          If `seed` is None (or `np.random`), the `numpy.random.RandomState`\n",
      " |          singleton is used.\n",
      " |          If `seed` is an int, a new ``RandomState`` instance is used,\n",
      " |          seeded with `seed`.\n",
      " |          If `seed` is already a ``Generator`` or ``RandomState`` instance then\n",
      " |          that instance is used.\n",
      " |      \n",
      " |      Returns\n",
      " |      -------\n",
      " |      resample : (self.d, `size`) ndarray\n",
      " |          The sampled dataset.\n",
      " |  \n",
      " |  scotts_factor(self)\n",
      " |      Computes the bandwidth factor `factor`.\n",
      " |      The default is `scotts_factor`.  A subclass can overwrite this\n",
      " |      method to provide a different method, or set it through a call to\n",
      " |      `set_bandwidth`.\n",
      " |  \n",
      " |  set_bandwidth(self, bw_method=None)\n",
      " |      Compute the bandwidth factor with given method.\n",
      " |      \n",
      " |      The new bandwidth calculated after a call to `set_bandwidth` is used\n",
      " |      for subsequent evaluations of the estimated density.\n",
      " |      \n",
      " |      Parameters\n",
      " |      ----------\n",
      " |      bw_method : str, scalar or callable, optional\n",
      " |          The method used to calculate the bandwidth factor.  This can be\n",
      " |          'scott', 'silverman', a scalar constant or a callable.  If a\n",
      " |          scalar, this will be used directly as `factor`.  If a callable,\n",
      " |          it should take a `gaussian_kde` instance as only parameter and\n",
      " |          return a scalar.  If None (default), nothing happens; the current\n",
      " |          `covariance_factor` method is kept.\n",
      " |      \n",
      " |      Notes\n",
      " |      -----\n",
      " |      .. versionadded:: 0.11\n",
      " |      \n",
      " |      Examples\n",
      " |      --------\n",
      " |      >>> import numpy as np\n",
      " |      >>> import scipy.stats as stats\n",
      " |      >>> x1 = np.array([-7, -5, 1, 4, 5.])\n",
      " |      >>> kde = stats.gaussian_kde(x1)\n",
      " |      >>> xs = np.linspace(-10, 10, num=50)\n",
      " |      >>> y1 = kde(xs)\n",
      " |      >>> kde.set_bandwidth(bw_method='silverman')\n",
      " |      >>> y2 = kde(xs)\n",
      " |      >>> kde.set_bandwidth(bw_method=kde.factor / 3.)\n",
      " |      >>> y3 = kde(xs)\n",
      " |      \n",
      " |      >>> import matplotlib.pyplot as plt\n",
      " |      >>> fig, ax = plt.subplots()\n",
      " |      >>> ax.plot(x1, np.full(x1.shape, 1 / (4. * x1.size)), 'bo',\n",
      " |      ...         label='Data points (rescaled)')\n",
      " |      >>> ax.plot(xs, y1, label='Scott (default)')\n",
      " |      >>> ax.plot(xs, y2, label='Silverman')\n",
      " |      >>> ax.plot(xs, y3, label='Const (1/3 * Silverman)')\n",
      " |      >>> ax.legend()\n",
      " |      >>> plt.show()\n",
      " |  \n",
      " |  silverman_factor(self)\n",
      " |      Compute the Silverman factor.\n",
      " |      \n",
      " |      Returns\n",
      " |      -------\n",
      " |      s : float\n",
      " |          The silverman factor.\n",
      " |  \n",
      " |  ----------------------------------------------------------------------\n",
      " |  Readonly properties defined here:\n",
      " |  \n",
      " |  inv_cov\n",
      " |  \n",
      " |  neff\n",
      " |  \n",
      " |  weights\n",
      " |  \n",
      " |  ----------------------------------------------------------------------\n",
      " |  Data descriptors defined here:\n",
      " |  \n",
      " |  __dict__\n",
      " |      dictionary for instance variables\n",
      " |  \n",
      " |  __weakref__\n",
      " |      list of weak references to the object\n",
      "\n"
     ]
    }
   ],
   "source": [
    "help(gaussian_kde)"
   ]
  },
  {
   "cell_type": "code",
   "execution_count": 3,
   "id": "b9d90f95-09a8-420d-b116-deec9ed60e0f",
   "metadata": {},
   "outputs": [],
   "source": [
    "z = []\n",
    "for i in range(100):\n",
    "    x = random.uniform(0.0, 1.0)\n",
    "    z.append(x**2)"
   ]
  },
  {
   "cell_type": "markdown",
   "id": "c2146155-1b7a-4ded-8afe-88d40900a0c1",
   "metadata": {},
   "source": [
    "## 1. Naive approach\n",
    "\n",
    "We are trying to compute Shannon entropy, but the numerical integration is sensitive to the size of the bins,\n",
    "so it doesn't converge"
   ]
  },
  {
   "cell_type": "code",
   "execution_count": 4,
   "id": "aab2d3f8-9808-4c4e-9c59-a069960f9d6e",
   "metadata": {},
   "outputs": [
    {
     "name": "stdout",
     "output_type": "stream",
     "text": [
      "dx = 0.009797088808333626\n",
      "S = -0.8265785427157958\n"
     ]
    }
   ],
   "source": [
    "counts, bin_edges = np.histogram(z, bins=100, density=True)\n",
    "\n",
    "# Compute bin centers for plotting\n",
    "bin_centers = 0.5 * (bin_edges[1:] + bin_edges[:-1])\n",
    "\n",
    "dx = bin_edges[1] - bin_edges[0]\n",
    "print(F\"dx = {dx}\")\n",
    "\n",
    "S = sum( -counts[counts>0.0] * np.log(counts[counts>0.0]) ) * dx\n",
    "print(F\"S = {S}\")"
   ]
  },
  {
   "cell_type": "code",
   "execution_count": 5,
   "id": "7dccf5b0-13fa-4401-981a-5f662c57c0a7",
   "metadata": {},
   "outputs": [],
   "source": [
    "#print(counts)\n",
    "#print(bin_edges)\n",
    "#print(bin_centers)"
   ]
  },
  {
   "cell_type": "markdown",
   "id": "ec362779-817a-4fa4-86e4-e0d57cda52ae",
   "metadata": {},
   "source": [
    "## 2. KDE estimator\n",
    "\n",
    "How about we use a smooth fit to data before doing the integration?\n"
   ]
  },
  {
   "cell_type": "code",
   "execution_count": 6,
   "id": "e2ab00c0-d150-4d44-b62f-82bc2ebed16c",
   "metadata": {},
   "outputs": [
    {
     "name": "stdout",
     "output_type": "stream",
     "text": [
      "Shannon entropy = -0.5701273669704433\n"
     ]
    },
    {
     "data": {
      "text/plain": [
       "[<matplotlib.lines.Line2D at 0x738431e87f90>]"
      ]
     },
     "execution_count": 6,
     "metadata": {},
     "output_type": "execute_result"
    },
    {
     "data": {
      "image/png": "[encoded data removed]",
      "text/plain": [
       "<Figure size 640x480 with 1 Axes>"
      ]
     },
     "metadata": {},
     "output_type": "display_data"
    }
   ],
   "source": [
    "# Assume z is your 1D data\n",
    "kde = gaussian_kde(z, 0.01)\n",
    "#print(kde)\n",
    "\n",
    "# Evaluate on a grid\n",
    "#x = np.linspace(min(z), max(z), 10000)\n",
    "x = bin_centers\n",
    "p = kde(x)\n",
    "#print(p)\n",
    "\n",
    "# Avoid log(0) by clipping\n",
    "p = np.clip(p, 1e-12, None)\n",
    "\n",
    "dx = x[1] - x[0]\n",
    "entropy = -np.sum(p * np.log(p)) * dx\n",
    "print(f\"Shannon entropy = {entropy}\")\n",
    "\n",
    "plt.plot(bin_centers, counts, color=\"blue\")\n",
    "plt.plot(x, p, color=\"black\")"
   ]
  },
  {
   "cell_type": "code",
   "execution_count": 7,
   "id": "e8a984a3-e5e8-4425-98dc-ea515328a6f0",
   "metadata": {},
   "outputs": [
    {
     "name": "stdout",
     "output_type": "stream",
     "text": [
      "Shannon entropy = -0.07298957320759847\n"
     ]
    },
    {
     "data": {
      "text/plain": [
       "[<matplotlib.lines.Line2D at 0x738429451ed0>]"
      ]
     },
     "execution_count": 7,
     "metadata": {},
     "output_type": "execute_result"
    },
    {
     "data": {
      "image/png": "[encoded data removed]",
      "text/plain": [
       "<Figure size 640x480 with 1 Axes>"
      ]
     },
     "metadata": {},
     "output_type": "display_data"
    }
   ],
   "source": [
    "# Assume z is your 1D data\n",
    "kde = gaussian_kde(z, 0.1)\n",
    "#print(kde)\n",
    "\n",
    "# Evaluate on a grid\n",
    "#x = np.linspace(min(z), max(z), 10000)\n",
    "x = bin_centers\n",
    "p = kde(x)\n",
    "#print(p)\n",
    "\n",
    "# Avoid log(0) by clipping\n",
    "p = np.clip(p, 1e-12, None)\n",
    "\n",
    "dx = x[1] - x[0]\n",
    "entropy = -np.sum(p * np.log(p)) * dx\n",
    "print(f\"Shannon entropy = {entropy}\")\n",
    "\n",
    "plt.plot(bin_centers, counts, color=\"blue\")\n",
    "plt.plot(x, p, color=\"black\")"
   ]
  },
  {
   "cell_type": "code",
   "execution_count": 8,
   "id": "f6b3bb30-cb6d-4703-919b-bcb8b12cacad",
   "metadata": {},
   "outputs": [
    {
     "name": "stdout",
     "output_type": "stream",
     "text": [
      "100\n",
      "100\n"
     ]
    }
   ],
   "source": [
    "print(len(x))\n",
    "print(len(p))"
   ]
  },
  {
   "cell_type": "markdown",
   "id": "8b19c459-9bc7-4d01-a817-4c075bbabc6c",
   "metadata": {},
   "source": [
    "## 3. Kozachenko-Leonenko"
   ]
  },
  {
   "cell_type": "code",
   "execution_count": 11,
   "id": "5ddeae37-0b31-4c52-bfce-3e7004bbb913",
   "metadata": {},
   "outputs": [
    {
     "name": "stdout",
     "output_type": "stream",
     "text": [
      "KNN entropy ≈ -0.38734132552933254\n"
     ]
    }
   ],
   "source": [
    "def kozachenko_leonenko_entropy(data, k=3):\n",
    "    \"\"\"\n",
    "    Estimate differential entropy using the Kozachenko-Leonenko estimator.\n",
    "    \n",
    "    Parameters:\n",
    "        data: ndarray of shape (n_samples, n_dimensions)\n",
    "        k: int, number of nearest neighbors (default=1)\n",
    "    \n",
    "    Returns:\n",
    "        Estimated entropy (float)\n",
    "    \"\"\"\n",
    "    n, d = data.shape\n",
    "    nbrs = NearestNeighbors(n_neighbors=k + 1, algorithm='auto').fit(data)\n",
    "    distances, _ = nbrs.kneighbors(data)\n",
    "    \n",
    "    # Exclude the zero distance to itself at index 0\n",
    "    epsilons = distances[:, k]\n",
    "    \n",
    "    # Constant: volume of unit ball in d dimensions\n",
    "    cd = (np.pi ** (d / 2)) / gamma(1 + d / 2)\n",
    "    \n",
    "    entropy = (\n",
    "        digamma(n) - digamma(k) +\n",
    "        np.log(cd) +\n",
    "        d * np.mean(np.log(epsilons))\n",
    "    )\n",
    "    return entropy / np.log(2)  # convert to bits\n",
    "\n",
    "npts = len(z)\n",
    "z = np.array(z).reshape(npts, 1)\n",
    "\n",
    "entropy = kozachenko_leonenko_entropy(z)\n",
    "print(f\"KNN entropy ≈ {entropy}\")"
   ]
  },
  {
   "cell_type": "markdown",
   "id": "5a93d858-d5b1-4618-9ace-573c9e944bd6",
   "metadata": {},
   "source": [
    "Now using the `infomeasure` library"
   ]
  },
  {
   "cell_type": "code",
   "execution_count": 15,
   "id": "1bd50361-8b49-4de1-8c2b-eadd4f7c835f",
   "metadata": {},
   "outputs": [
    {
     "name": "stdout",
     "output_type": "stream",
     "text": [
      "-0.3873413649299504\n"
     ]
    }
   ],
   "source": [
    "h = im.entropy(z, approach=\"metric\", k=3)\n",
    "print(h)"
   ]
  },
  {
   "cell_type": "code",
   "execution_count": 24,
   "id": "6f9f9de0-1fe6-4d96-8837-1fe3094c9c7d",
   "metadata": {},
   "outputs": [
    {
     "name": "stdout",
     "output_type": "stream",
     "text": [
      "-0.09392675736231061\n",
      "-0.7005558659051393\n",
      "-2.493268322814923\n",
      "-0.17518932258340233\n",
      "-0.9151529357471722\n",
      "-2.773645382558815\n"
     ]
    }
   ],
   "source": [
    "# This discrete approach won't work since the variables are expected to be discrete\n",
    "#h = im.entropy(z, approach=\"discrete\", base=2)\n",
    "#print(h)\n",
    "\n",
    "# So let's do the continuous one:\n",
    "h = im.entropy(z, approach=\"kernel\", kernel=\"box\", bandwidth=0.1)\n",
    "print(h)\n",
    "\n",
    "h = im.entropy(z, approach=\"kernel\", kernel=\"box\", bandwidth=0.01)\n",
    "print(h)\n",
    "\n",
    "h = im.entropy(z, approach=\"kernel\", kernel=\"box\", bandwidth=0.001)\n",
    "print(h)\n",
    "\n",
    "\n",
    "# So let's do the continuous one:\n",
    "h = im.entropy(z, approach=\"kernel\", kernel=\"gaussian\", bandwidth=0.1, base='e')\n",
    "print(h)\n",
    "\n",
    "h = im.entropy(z, approach=\"kernel\", kernel=\"gaussian\", bandwidth=0.01)\n",
    "print(h)\n",
    "\n",
    "h = im.entropy(z, approach=\"kernel\", kernel=\"gaussian\", bandwidth=0.001)\n",
    "print(h)"
   ]
  },
  {
   "cell_type": "code",
   "execution_count": null,
   "id": "0d14e69f-01da-40bf-bc0a-1b0e935469a3",
   "metadata": {},
   "outputs": [],
   "source": []
  },
  {
   "cell_type": "code",
   "execution_count": 12,
   "id": "7ae3b6d8-2385-459d-bd17-ca45025c98c5",
   "metadata": {},
   "outputs": [
    {
     "data": {
      "text/plain": [
       "[<matplotlib.lines.Line2D at 0x7384317c2910>]"
      ]
     },
     "execution_count": 12,
     "metadata": {},
     "output_type": "execute_result"
    },
    {
     "data": {
      "image/png": "[encoded data removed]",
      "text/plain": [
       "<Figure size 640x480 with 1 Axes>"
      ]
     },
     "metadata": {},
     "output_type": "display_data"
    }
   ],
   "source": [
    "ks = list(range(1, 99))\n",
    "s = []\n",
    "for k in ks:\n",
    "    entropy = kozachenko_leonenko_entropy(z, k)\n",
    "    s.append(entropy)\n",
    "\n",
    "plt.plot(ks, s)"
   ]
  },
  {
   "cell_type": "markdown",
   "id": "59b35809-794a-45b9-96ae-9854c6a41dd2",
   "metadata": {},
   "source": [
    "## 4. Adaptive binning\n",
    "\n",
    "Hwere is how Shannon entropy depends on the number of bins, for the same data"
   ]
  },
  {
   "cell_type": "code",
   "execution_count": 13,
   "id": "884b9ee7-e803-42fa-b0be-9a3ce0daadbe",
   "metadata": {},
   "outputs": [
    {
     "data": {
      "image/png": "[encoded data removed]",
      "text/plain": [
       "<Figure size 640x480 with 1 Axes>"
      ]
     },
     "metadata": {},
     "output_type": "display_data"
    }
   ],
   "source": [
    "bins_list = np.arange(100, 20000, 500)\n",
    "entropy_list = []\n",
    "\n",
    "for bins in bins_list:\n",
    "    counts, bin_edges = np.histogram(z, bins=bins, density=True)\n",
    "    dx = bin_edges[1] - bin_edges[0]\n",
    "    p = counts[counts > 0]\n",
    "    entropy = -np.sum(p * np.log(p)) * dx\n",
    "    entropy_list.append(entropy)\n",
    "\n",
    "plt.plot(bins_list, entropy_list)\n",
    "plt.xlabel(\"Number of bins\")\n",
    "plt.ylabel(\"Entropy estimate\")\n",
    "plt.title(\"Entropy convergence with histogram bin count\")\n",
    "plt.grid(True)\n",
    "plt.show()"
   ]
  },
  {
   "cell_type": "code",
   "execution_count": null,
   "id": "f17d4771-101e-402b-8188-3edfd0568411",
   "metadata": {},
   "outputs": [],
   "source": []
  }
 ],
 "metadata": {
  "kernelspec": {
   "display_name": "Python (base)",
   "language": "python",
   "name": "base"
  },
  "language_info": {
   "codemirror_mode": {
    "name": "ipython",
    "version": 3
   },
   "file_extension": ".py",
   "mimetype": "text/x-python",
   "name": "python",
   "nbconvert_exporter": "python",
   "pygments_lexer": "ipython3",
   "version": "3.11.11"
  }
 },
 "nbformat": 4,
 "nbformat_minor": 5
}
